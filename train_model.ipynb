{
  "metadata": {
    "kernelspec": {
      "name": "",
      "display_name": ""
    },
    "language_info": {
      "name": ""
    }
  },
  "nbformat_minor": 5,
  "nbformat": 4,
  "cells": [
    {
      "id": "f452448d-3fed-4150-897f-8b0475c5c2ac",
      "cell_type": "code",
      "source": "# Import libraries\nimport pandas as pd\nfrom sklearn.model_selection import train_test_split\nfrom sklearn.feature_extraction.text import TfidfVectorizer\nfrom sklearn.linear_model import LogisticRegression\nfrom sklearn.metrics import accuracy_score, confusion_matrix, precision_score, recall_score\nimport joblib\n\n# Load sample dataset (replace with your data)\nfrom sklearn.datasets import fetch_20newsgroups\ncategories = ['alt.atheism', 'soc.religion.christian']\nnewsgroups = fetch_20newsgroups(subset='all', categories=categories)\ndf = pd.DataFrame({'text': newsgroups.data, 'label': newsgroups.target})\n\n# Preprocessing\ndf['cleaned_text'] = df['text'].apply(preprocess_text).apply(' '.join)\n\n# Train-test split\nX_train, X_test, y_train, y_test = train_test_split(\n    df['cleaned_text'], df['label'], test_size=0.2, random_state=42)\n\n# TF-IDF Vectorization\nvectorizer = TfidfVectorizer(max_features=5000)\nX_train_vec = vectorizer.fit_transform(X_train)\nX_test_vec = vectorizer.transform(X_test)\n\n# Model training\nmodel = LogisticRegression(max_iter=1000)\nmodel.fit(X_train_vec, y_train)\n\n# Evaluation\ny_pred = model.predict(X_test_vec)\nprint(f\"Accuracy: {accuracy_score(y_test, y_pred):.2f}\")\nprint(f\"Precision: {precision_score(y_test, y_pred):.2f}\")\nprint(f\"Recall: {recall_score(y_test, y_pred):.2f}\")\nprint(\"Confusion Matrix:\")\nprint(confusion_matrix(y_test, y_pred))\n\n# Save model\njoblib.dump(model, 'model/logreg_model.joblib')\njoblib.dump(vectorizer, 'model/tfidf_vectorizer.joblib')",
      "metadata": {
        "trusted": true
      },
      "outputs": [],
      "execution_count": null
    },
    {
      "id": "90d76c06-36bc-4b8a-8a3c-5b33a71ee49f",
      "cell_type": "code",
      "source": "",
      "metadata": {
        "trusted": true
      },
      "outputs": [],
      "execution_count": null
    }
  ]
}